{
 "cells": [
  {
   "cell_type": "code",
   "execution_count": 1,
   "id": "eef482a4",
   "metadata": {
    "scrolled": true
   },
   "outputs": [
    {
     "name": "stdout",
     "output_type": "stream",
     "text": [
      "<class 'pandas.core.frame.DataFrame'>\n",
      "RangeIndex: 35952 entries, 0 to 35951\n",
      "Data columns (total 15 columns):\n",
      " #   Column                   Non-Null Count  Dtype  \n",
      "---  ------                   --------------  -----  \n",
      " 0   Make                     35952 non-null  object \n",
      " 1   Model                    35952 non-null  object \n",
      " 2   Year                     35952 non-null  int64  \n",
      " 3   Engine Displacement      35952 non-null  float64\n",
      " 4   Cylinders                35952 non-null  float64\n",
      " 5   Transmission             35952 non-null  object \n",
      " 6   Drivetrain               35952 non-null  object \n",
      " 7   Vehicle Class            35952 non-null  object \n",
      " 8   Fuel Type                35952 non-null  object \n",
      " 9   Fuel Barrels/Year        35952 non-null  float64\n",
      " 10  City MPG                 35952 non-null  int64  \n",
      " 11  Highway MPG              35952 non-null  int64  \n",
      " 12  Combined MPG             35952 non-null  int64  \n",
      " 13  CO2 Emission Grams/Mile  35952 non-null  float64\n",
      " 14  Fuel Cost/Year           35952 non-null  int64  \n",
      "dtypes: float64(4), int64(5), object(6)\n",
      "memory usage: 4.1+ MB\n"
     ]
    }
   ],
   "source": [
    "#Carlos Gonzalez_created on Jun 2nd 2022\n",
    "import pandas as pd\n",
    "import numpy as np\n",
    "url='https://drive.google.com/file/d/1PCJ7ltluquoXKi6MYTPMfwZQNI_-MIFP/view?usp=sharing'\n",
    "url='https://drive.google.com/uc?id=' + url.split('/')[-2]\n",
    "df = pd.read_csv(url)\n",
    "df.head()\n",
    "df.info()"
   ]
  },
  {
   "cell_type": "markdown",
   "id": "23191bc7",
   "metadata": {},
   "source": [
    "## Q1_What is the average CO2 emmission per gram/mile of all Volkswagen cars?"
   ]
  },
  {
   "cell_type": "code",
   "execution_count": 16,
   "id": "7fb4021e",
   "metadata": {
    "scrolled": false
   },
   "outputs": [
    {
     "data": {
      "text/plain": [
       "392.7417210857633"
      ]
     },
     "execution_count": 16,
     "metadata": {},
     "output_type": "execute_result"
    }
   ],
   "source": [
    "#Q1  What is the average CO2 emmission per gram/mile of all Volkswagen cars?\n",
    "df1=df[df[\"Make\"]==\"Volkswagen\"]\n",
    "df1[\"CO2 Emission Grams/Mile\"].mean()"
   ]
  },
  {
   "cell_type": "markdown",
   "id": "1baec7ac",
   "metadata": {},
   "source": [
    "### #Q2. Calculate the top 5 brands(Make) with the most unique models, order your answer in descending order with respect to the number of unique models\n"
   ]
  },
  {
   "cell_type": "code",
   "execution_count": 26,
   "id": "58a4377d",
   "metadata": {},
   "outputs": [
    {
     "data": {
      "text/plain": [
       "DJ Po Vehicle 2WD      1\n",
       "FJ8c Post Office       1\n",
       "Post Office DJ5 2WD    1\n",
       "Post Office DJ8 2WD    1\n",
       "Name: Model, dtype: int64"
      ]
     },
     "execution_count": 26,
     "metadata": {},
     "output_type": "execute_result"
    }
   ],
   "source": [
    "df1=df[df[\"Make\"]==\"AM General\"]\n",
    "df1[\"Model\"].value_counts()"
   ]
  },
  {
   "cell_type": "code",
   "execution_count": 98,
   "id": "e85cf6e5",
   "metadata": {
    "scrolled": true
   },
   "outputs": [
    {
     "data": {
      "text/plain": [
       "Chevrolet                             3643\n",
       "Ford                                  2946\n",
       "Dodge                                 2360\n",
       "GMC                                   2347\n",
       "Toyota                                1836\n",
       "                                      ... \n",
       "Excalibur Autos                          1\n",
       "S and S Coach Company  E.p. Dutton       1\n",
       "Environmental Rsch and Devp Corp         1\n",
       "E. P. Dutton, Inc.                       1\n",
       "Lambda Control Systems                   1\n",
       "Name: Make, Length: 127, dtype: int64"
      ]
     },
     "execution_count": 98,
     "metadata": {},
     "output_type": "execute_result"
    }
   ],
   "source": [
    "df[\"Make\"].value_counts()"
   ]
  },
  {
   "cell_type": "code",
   "execution_count": 37,
   "id": "72f15f3b",
   "metadata": {},
   "outputs": [
    {
     "data": {
      "text/plain": [
       "3"
      ]
     },
     "execution_count": 37,
     "metadata": {},
     "output_type": "execute_result"
    }
   ],
   "source": [
    "#This one counts distinct values of only \"AM General\" in column \"Make\"\n",
    "df1=df[df[\"Make\"]==\"AM General\"]\n",
    "df1['Fuel Barrels/Year'].nunique()"
   ]
  },
  {
   "cell_type": "code",
   "execution_count": 42,
   "id": "edf656bf",
   "metadata": {},
   "outputs": [
    {
     "data": {
      "text/plain": [
       "F150 Pickup 2WD      197\n",
       "F150 Pickup 4WD      179\n",
       "Truck 2WD            173\n",
       "Mustang              170\n",
       "Jetta                169\n",
       "                    ... \n",
       "C300 Convertible       1\n",
       "C300 Coupe             1\n",
       "C300 FFV               1\n",
       "C320 4matic Sedan      1\n",
       "DJ Po Vehicle 2WD      1\n",
       "Name: Model, Length: 3608, dtype: int64"
      ]
     },
     "execution_count": 42,
     "metadata": {},
     "output_type": "execute_result"
    }
   ],
   "source": [
    "df[\"Model\"].value_counts()"
   ]
  },
  {
   "cell_type": "code",
   "execution_count": 44,
   "id": "def42240",
   "metadata": {},
   "outputs": [
    {
     "data": {
      "text/plain": [
       "Regular                        23587\n",
       "Premium                         9921\n",
       "Gasoline or E85                 1195\n",
       "Diesel                           911\n",
       "Premium or E85                   121\n",
       "Midgrade                          74\n",
       "CNG                               60\n",
       "Premium and Electricity           20\n",
       "Gasoline or natural gas           20\n",
       "Premium Gas or Electricity        17\n",
       "Regular Gas and Electricity       16\n",
       "Gasoline or propane                8\n",
       "Regular Gas or Electricity         2\n",
       "Name: Fuel Type, dtype: int64"
      ]
     },
     "execution_count": 44,
     "metadata": {},
     "output_type": "execute_result"
    }
   ],
   "source": [
    "#Q3. What are all the different types of fuels in the dataset sorted alphabetically?\n",
    "df[\"Fuel Type\"].value_counts()"
   ]
  },
  {
   "cell_type": "code",
   "execution_count": 63,
   "id": "7bbc7a18",
   "metadata": {
    "scrolled": true
   },
   "outputs": [
    {
     "data": {
      "text/html": [
       "<div>\n",
       "<style scoped>\n",
       "    .dataframe tbody tr th:only-of-type {\n",
       "        vertical-align: middle;\n",
       "    }\n",
       "\n",
       "    .dataframe tbody tr th {\n",
       "        vertical-align: top;\n",
       "    }\n",
       "\n",
       "    .dataframe thead th {\n",
       "        text-align: right;\n",
       "    }\n",
       "</style>\n",
       "<table border=\"1\" class=\"dataframe\">\n",
       "  <thead>\n",
       "    <tr style=\"text-align: right;\">\n",
       "      <th></th>\n",
       "      <th>Make</th>\n",
       "      <th>Model</th>\n",
       "      <th>Year</th>\n",
       "      <th>Engine Displacement</th>\n",
       "      <th>Cylinders</th>\n",
       "      <th>Transmission</th>\n",
       "      <th>Drivetrain</th>\n",
       "      <th>Vehicle Class</th>\n",
       "      <th>Fuel Type</th>\n",
       "      <th>Fuel Barrels/Year</th>\n",
       "      <th>City MPG</th>\n",
       "      <th>Highway MPG</th>\n",
       "      <th>Combined MPG</th>\n",
       "      <th>CO2 Emission Grams/Mile</th>\n",
       "      <th>Fuel Cost/Year</th>\n",
       "    </tr>\n",
       "  </thead>\n",
       "  <tbody>\n",
       "    <tr>\n",
       "      <th>155</th>\n",
       "      <td>Acura</td>\n",
       "      <td>NSX</td>\n",
       "      <td>1996</td>\n",
       "      <td>3.0</td>\n",
       "      <td>6.0</td>\n",
       "      <td>Manual 5-spd</td>\n",
       "      <td>Rear-Wheel Drive</td>\n",
       "      <td>Two Seaters</td>\n",
       "      <td>Premium</td>\n",
       "      <td>18.311667</td>\n",
       "      <td>16</td>\n",
       "      <td>22</td>\n",
       "      <td>18</td>\n",
       "      <td>493.722222</td>\n",
       "      <td>2250</td>\n",
       "    </tr>\n",
       "    <tr>\n",
       "      <th>186</th>\n",
       "      <td>Acura</td>\n",
       "      <td>RDX 4WD</td>\n",
       "      <td>2013</td>\n",
       "      <td>3.5</td>\n",
       "      <td>6.0</td>\n",
       "      <td>Automatic (S6)</td>\n",
       "      <td>All-Wheel Drive</td>\n",
       "      <td>Small Sport Utility Vehicle 4WD</td>\n",
       "      <td>Premium</td>\n",
       "      <td>14.982273</td>\n",
       "      <td>19</td>\n",
       "      <td>27</td>\n",
       "      <td>22</td>\n",
       "      <td>399.000000</td>\n",
       "      <td>1850</td>\n",
       "    </tr>\n",
       "    <tr>\n",
       "      <th>187</th>\n",
       "      <td>Acura</td>\n",
       "      <td>RDX 4WD</td>\n",
       "      <td>2014</td>\n",
       "      <td>3.5</td>\n",
       "      <td>6.0</td>\n",
       "      <td>Automatic (S6)</td>\n",
       "      <td>All-Wheel Drive</td>\n",
       "      <td>Small Sport Utility Vehicle 4WD</td>\n",
       "      <td>Premium</td>\n",
       "      <td>14.982273</td>\n",
       "      <td>19</td>\n",
       "      <td>27</td>\n",
       "      <td>22</td>\n",
       "      <td>399.000000</td>\n",
       "      <td>1850</td>\n",
       "    </tr>\n",
       "    <tr>\n",
       "      <th>188</th>\n",
       "      <td>Acura</td>\n",
       "      <td>RDX 4WD</td>\n",
       "      <td>2015</td>\n",
       "      <td>3.5</td>\n",
       "      <td>6.0</td>\n",
       "      <td>Automatic (S6)</td>\n",
       "      <td>All-Wheel Drive</td>\n",
       "      <td>Small Sport Utility Vehicle 4WD</td>\n",
       "      <td>Premium</td>\n",
       "      <td>14.982273</td>\n",
       "      <td>19</td>\n",
       "      <td>27</td>\n",
       "      <td>22</td>\n",
       "      <td>399.000000</td>\n",
       "      <td>1850</td>\n",
       "    </tr>\n",
       "    <tr>\n",
       "      <th>189</th>\n",
       "      <td>Acura</td>\n",
       "      <td>RDX 4WD</td>\n",
       "      <td>2016</td>\n",
       "      <td>3.5</td>\n",
       "      <td>6.0</td>\n",
       "      <td>Automatic (S6)</td>\n",
       "      <td>All-Wheel Drive</td>\n",
       "      <td>Small Sport Utility Vehicle 4WD</td>\n",
       "      <td>Premium</td>\n",
       "      <td>14.982273</td>\n",
       "      <td>19</td>\n",
       "      <td>28</td>\n",
       "      <td>22</td>\n",
       "      <td>400.000000</td>\n",
       "      <td>1850</td>\n",
       "    </tr>\n",
       "    <tr>\n",
       "      <th>...</th>\n",
       "      <td>...</td>\n",
       "      <td>...</td>\n",
       "      <td>...</td>\n",
       "      <td>...</td>\n",
       "      <td>...</td>\n",
       "      <td>...</td>\n",
       "      <td>...</td>\n",
       "      <td>...</td>\n",
       "      <td>...</td>\n",
       "      <td>...</td>\n",
       "      <td>...</td>\n",
       "      <td>...</td>\n",
       "      <td>...</td>\n",
       "      <td>...</td>\n",
       "      <td>...</td>\n",
       "    </tr>\n",
       "    <tr>\n",
       "      <th>223</th>\n",
       "      <td>Acura</td>\n",
       "      <td>SLX</td>\n",
       "      <td>1996</td>\n",
       "      <td>3.2</td>\n",
       "      <td>6.0</td>\n",
       "      <td>Manual 5-spd</td>\n",
       "      <td>4-Wheel or All-Wheel Drive</td>\n",
       "      <td>Special Purpose Vehicles</td>\n",
       "      <td>Regular</td>\n",
       "      <td>21.974000</td>\n",
       "      <td>14</td>\n",
       "      <td>17</td>\n",
       "      <td>15</td>\n",
       "      <td>592.466667</td>\n",
       "      <td>2200</td>\n",
       "    </tr>\n",
       "    <tr>\n",
       "      <th>222</th>\n",
       "      <td>Acura</td>\n",
       "      <td>SLX</td>\n",
       "      <td>1996</td>\n",
       "      <td>3.2</td>\n",
       "      <td>6.0</td>\n",
       "      <td>Automatic 4-spd</td>\n",
       "      <td>4-Wheel or All-Wheel Drive</td>\n",
       "      <td>Special Purpose Vehicles</td>\n",
       "      <td>Regular</td>\n",
       "      <td>23.543571</td>\n",
       "      <td>13</td>\n",
       "      <td>17</td>\n",
       "      <td>14</td>\n",
       "      <td>634.785714</td>\n",
       "      <td>2400</td>\n",
       "    </tr>\n",
       "    <tr>\n",
       "      <th>221</th>\n",
       "      <td>Acura</td>\n",
       "      <td>RSX</td>\n",
       "      <td>2006</td>\n",
       "      <td>2.0</td>\n",
       "      <td>4.0</td>\n",
       "      <td>Automatic (S5)</td>\n",
       "      <td>Front-Wheel Drive</td>\n",
       "      <td>Subcompact Cars</td>\n",
       "      <td>Regular</td>\n",
       "      <td>13.184400</td>\n",
       "      <td>22</td>\n",
       "      <td>31</td>\n",
       "      <td>25</td>\n",
       "      <td>355.480000</td>\n",
       "      <td>1350</td>\n",
       "    </tr>\n",
       "    <tr>\n",
       "      <th>57</th>\n",
       "      <td>Acura</td>\n",
       "      <td>Integra</td>\n",
       "      <td>1990</td>\n",
       "      <td>1.8</td>\n",
       "      <td>4.0</td>\n",
       "      <td>Automatic 4-spd</td>\n",
       "      <td>Front-Wheel Drive</td>\n",
       "      <td>Subcompact Cars</td>\n",
       "      <td>Regular</td>\n",
       "      <td>14.982273</td>\n",
       "      <td>20</td>\n",
       "      <td>24</td>\n",
       "      <td>22</td>\n",
       "      <td>403.954545</td>\n",
       "      <td>1500</td>\n",
       "    </tr>\n",
       "    <tr>\n",
       "      <th>5</th>\n",
       "      <td>Acura</td>\n",
       "      <td>2.2CL/3.0CL</td>\n",
       "      <td>1997</td>\n",
       "      <td>2.2</td>\n",
       "      <td>4.0</td>\n",
       "      <td>Automatic 4-spd</td>\n",
       "      <td>Front-Wheel Drive</td>\n",
       "      <td>Subcompact Cars</td>\n",
       "      <td>Regular</td>\n",
       "      <td>14.982273</td>\n",
       "      <td>20</td>\n",
       "      <td>26</td>\n",
       "      <td>22</td>\n",
       "      <td>403.954545</td>\n",
       "      <td>1500</td>\n",
       "    </tr>\n",
       "  </tbody>\n",
       "</table>\n",
       "<p>302 rows × 15 columns</p>\n",
       "</div>"
      ],
      "text/plain": [
       "      Make        Model  Year  Engine Displacement  Cylinders  \\\n",
       "155  Acura          NSX  1996                  3.0        6.0   \n",
       "186  Acura      RDX 4WD  2013                  3.5        6.0   \n",
       "187  Acura      RDX 4WD  2014                  3.5        6.0   \n",
       "188  Acura      RDX 4WD  2015                  3.5        6.0   \n",
       "189  Acura      RDX 4WD  2016                  3.5        6.0   \n",
       "..     ...          ...   ...                  ...        ...   \n",
       "223  Acura          SLX  1996                  3.2        6.0   \n",
       "222  Acura          SLX  1996                  3.2        6.0   \n",
       "221  Acura          RSX  2006                  2.0        4.0   \n",
       "57   Acura      Integra  1990                  1.8        4.0   \n",
       "5    Acura  2.2CL/3.0CL  1997                  2.2        4.0   \n",
       "\n",
       "        Transmission                  Drivetrain  \\\n",
       "155     Manual 5-spd            Rear-Wheel Drive   \n",
       "186   Automatic (S6)             All-Wheel Drive   \n",
       "187   Automatic (S6)             All-Wheel Drive   \n",
       "188   Automatic (S6)             All-Wheel Drive   \n",
       "189   Automatic (S6)             All-Wheel Drive   \n",
       "..               ...                         ...   \n",
       "223     Manual 5-spd  4-Wheel or All-Wheel Drive   \n",
       "222  Automatic 4-spd  4-Wheel or All-Wheel Drive   \n",
       "221   Automatic (S5)           Front-Wheel Drive   \n",
       "57   Automatic 4-spd           Front-Wheel Drive   \n",
       "5    Automatic 4-spd           Front-Wheel Drive   \n",
       "\n",
       "                       Vehicle Class Fuel Type  Fuel Barrels/Year  City MPG  \\\n",
       "155                      Two Seaters   Premium          18.311667        16   \n",
       "186  Small Sport Utility Vehicle 4WD   Premium          14.982273        19   \n",
       "187  Small Sport Utility Vehicle 4WD   Premium          14.982273        19   \n",
       "188  Small Sport Utility Vehicle 4WD   Premium          14.982273        19   \n",
       "189  Small Sport Utility Vehicle 4WD   Premium          14.982273        19   \n",
       "..                               ...       ...                ...       ...   \n",
       "223         Special Purpose Vehicles   Regular          21.974000        14   \n",
       "222         Special Purpose Vehicles   Regular          23.543571        13   \n",
       "221                  Subcompact Cars   Regular          13.184400        22   \n",
       "57                   Subcompact Cars   Regular          14.982273        20   \n",
       "5                    Subcompact Cars   Regular          14.982273        20   \n",
       "\n",
       "     Highway MPG  Combined MPG  CO2 Emission Grams/Mile  Fuel Cost/Year  \n",
       "155           22            18               493.722222            2250  \n",
       "186           27            22               399.000000            1850  \n",
       "187           27            22               399.000000            1850  \n",
       "188           27            22               399.000000            1850  \n",
       "189           28            22               400.000000            1850  \n",
       "..           ...           ...                      ...             ...  \n",
       "223           17            15               592.466667            2200  \n",
       "222           17            14               634.785714            2400  \n",
       "221           31            25               355.480000            1350  \n",
       "57            24            22               403.954545            1500  \n",
       "5             26            22               403.954545            1500  \n",
       "\n",
       "[302 rows x 15 columns]"
      ]
     },
     "execution_count": 63,
     "metadata": {},
     "output_type": "execute_result"
    }
   ],
   "source": [
    "df1=df[df[\"Make\"]==\"Acura\"]\n",
    "df1.sort_values('Fuel Type')"
   ]
  },
  {
   "cell_type": "code",
   "execution_count": 66,
   "id": "166de48d",
   "metadata": {},
   "outputs": [
    {
     "data": {
      "text/html": [
       "<div>\n",
       "<style scoped>\n",
       "    .dataframe tbody tr th:only-of-type {\n",
       "        vertical-align: middle;\n",
       "    }\n",
       "\n",
       "    .dataframe tbody tr th {\n",
       "        vertical-align: top;\n",
       "    }\n",
       "\n",
       "    .dataframe thead th {\n",
       "        text-align: right;\n",
       "    }\n",
       "</style>\n",
       "<table border=\"1\" class=\"dataframe\">\n",
       "  <thead>\n",
       "    <tr style=\"text-align: right;\">\n",
       "      <th></th>\n",
       "      <th>Make</th>\n",
       "      <th>Model</th>\n",
       "      <th>Year</th>\n",
       "      <th>Engine Displacement</th>\n",
       "      <th>Cylinders</th>\n",
       "      <th>Transmission</th>\n",
       "      <th>Drivetrain</th>\n",
       "      <th>Vehicle Class</th>\n",
       "      <th>Fuel Type</th>\n",
       "      <th>Fuel Barrels/Year</th>\n",
       "      <th>City MPG</th>\n",
       "      <th>Highway MPG</th>\n",
       "      <th>Combined MPG</th>\n",
       "      <th>CO2 Emission Grams/Mile</th>\n",
       "      <th>Fuel Cost/Year</th>\n",
       "    </tr>\n",
       "  </thead>\n",
       "  <tbody>\n",
       "    <tr>\n",
       "      <th>32600</th>\n",
       "      <td>Toyota</td>\n",
       "      <td>Camry CNG</td>\n",
       "      <td>1999</td>\n",
       "      <td>2.2</td>\n",
       "      <td>4.0</td>\n",
       "      <td>Automatic 4-spd</td>\n",
       "      <td>Front-Wheel Drive</td>\n",
       "      <td>Compact Cars</td>\n",
       "      <td>CNG</td>\n",
       "      <td>0.080870</td>\n",
       "      <td>20</td>\n",
       "      <td>28</td>\n",
       "      <td>23</td>\n",
       "      <td>308.240217</td>\n",
       "      <td>1300</td>\n",
       "    </tr>\n",
       "    <tr>\n",
       "      <th>12572</th>\n",
       "      <td>Ford</td>\n",
       "      <td>F150 CNG</td>\n",
       "      <td>2001</td>\n",
       "      <td>5.4</td>\n",
       "      <td>8.0</td>\n",
       "      <td>Automatic 4-spd</td>\n",
       "      <td>Rear-Wheel Drive</td>\n",
       "      <td>Standard Pickup Trucks 2WD</td>\n",
       "      <td>CNG</td>\n",
       "      <td>0.143077</td>\n",
       "      <td>11</td>\n",
       "      <td>15</td>\n",
       "      <td>13</td>\n",
       "      <td>545.348077</td>\n",
       "      <td>2350</td>\n",
       "    </tr>\n",
       "    <tr>\n",
       "      <th>12573</th>\n",
       "      <td>Ford</td>\n",
       "      <td>F150 CNG</td>\n",
       "      <td>2002</td>\n",
       "      <td>5.4</td>\n",
       "      <td>8.0</td>\n",
       "      <td>Automatic 4-spd</td>\n",
       "      <td>Rear-Wheel Drive</td>\n",
       "      <td>Standard Pickup Trucks 2WD</td>\n",
       "      <td>CNG</td>\n",
       "      <td>0.155000</td>\n",
       "      <td>11</td>\n",
       "      <td>15</td>\n",
       "      <td>12</td>\n",
       "      <td>590.793750</td>\n",
       "      <td>2500</td>\n",
       "    </tr>\n",
       "    <tr>\n",
       "      <th>15634</th>\n",
       "      <td>GMC</td>\n",
       "      <td>Savana Cargo (dedicated CNG)</td>\n",
       "      <td>2004</td>\n",
       "      <td>6.0</td>\n",
       "      <td>8.0</td>\n",
       "      <td>Automatic 4-spd</td>\n",
       "      <td>Rear-Wheel Drive</td>\n",
       "      <td>Vans, Cargo Type</td>\n",
       "      <td>CNG</td>\n",
       "      <td>0.155000</td>\n",
       "      <td>11</td>\n",
       "      <td>15</td>\n",
       "      <td>12</td>\n",
       "      <td>590.793750</td>\n",
       "      <td>2500</td>\n",
       "    </tr>\n",
       "    <tr>\n",
       "      <th>15636</th>\n",
       "      <td>GMC</td>\n",
       "      <td>Savana Passenger (dedicated CNG)</td>\n",
       "      <td>2004</td>\n",
       "      <td>6.0</td>\n",
       "      <td>8.0</td>\n",
       "      <td>Automatic 4-spd</td>\n",
       "      <td>Rear-Wheel Drive</td>\n",
       "      <td>Vans, Passenger Type</td>\n",
       "      <td>CNG</td>\n",
       "      <td>0.155000</td>\n",
       "      <td>11</td>\n",
       "      <td>15</td>\n",
       "      <td>12</td>\n",
       "      <td>590.793750</td>\n",
       "      <td>2500</td>\n",
       "    </tr>\n",
       "    <tr>\n",
       "      <th>...</th>\n",
       "      <td>...</td>\n",
       "      <td>...</td>\n",
       "      <td>...</td>\n",
       "      <td>...</td>\n",
       "      <td>...</td>\n",
       "      <td>...</td>\n",
       "      <td>...</td>\n",
       "      <td>...</td>\n",
       "      <td>...</td>\n",
       "      <td>...</td>\n",
       "      <td>...</td>\n",
       "      <td>...</td>\n",
       "      <td>...</td>\n",
       "      <td>...</td>\n",
       "      <td>...</td>\n",
       "    </tr>\n",
       "    <tr>\n",
       "      <th>11639</th>\n",
       "      <td>Ford</td>\n",
       "      <td>C-MAX Energi Plug-in Hybrid</td>\n",
       "      <td>2013</td>\n",
       "      <td>2.0</td>\n",
       "      <td>4.0</td>\n",
       "      <td>Automatic (variable gear ratios)</td>\n",
       "      <td>Front-Wheel Drive</td>\n",
       "      <td>Midsize Cars</td>\n",
       "      <td>Regular Gas and Electricity</td>\n",
       "      <td>4.878704</td>\n",
       "      <td>40</td>\n",
       "      <td>36</td>\n",
       "      <td>38</td>\n",
       "      <td>129.000000</td>\n",
       "      <td>900</td>\n",
       "    </tr>\n",
       "    <tr>\n",
       "      <th>17059</th>\n",
       "      <td>Honda</td>\n",
       "      <td>Accord Plug-in Hybrid</td>\n",
       "      <td>2014</td>\n",
       "      <td>2.0</td>\n",
       "      <td>4.0</td>\n",
       "      <td>Automatic (variable gear ratios)</td>\n",
       "      <td>Front-Wheel Drive</td>\n",
       "      <td>Midsize Cars</td>\n",
       "      <td>Regular Gas and Electricity</td>\n",
       "      <td>4.827657</td>\n",
       "      <td>47</td>\n",
       "      <td>46</td>\n",
       "      <td>46</td>\n",
       "      <td>130.000000</td>\n",
       "      <td>700</td>\n",
       "    </tr>\n",
       "    <tr>\n",
       "      <th>13409</th>\n",
       "      <td>Ford</td>\n",
       "      <td>Fusion Energi Plug-in Hybrid</td>\n",
       "      <td>2014</td>\n",
       "      <td>2.0</td>\n",
       "      <td>4.0</td>\n",
       "      <td>Automatic (variable gear ratios)</td>\n",
       "      <td>Front-Wheel Drive</td>\n",
       "      <td>Midsize Cars</td>\n",
       "      <td>Regular Gas and Electricity</td>\n",
       "      <td>4.878704</td>\n",
       "      <td>40</td>\n",
       "      <td>36</td>\n",
       "      <td>38</td>\n",
       "      <td>129.000000</td>\n",
       "      <td>900</td>\n",
       "    </tr>\n",
       "    <tr>\n",
       "      <th>7917</th>\n",
       "      <td>Chevrolet</td>\n",
       "      <td>Volt</td>\n",
       "      <td>2017</td>\n",
       "      <td>1.5</td>\n",
       "      <td>4.0</td>\n",
       "      <td>Automatic (variable gear ratios)</td>\n",
       "      <td>Front-Wheel Drive</td>\n",
       "      <td>Compact Cars</td>\n",
       "      <td>Regular Gas or Electricity</td>\n",
       "      <td>2.006844</td>\n",
       "      <td>43</td>\n",
       "      <td>42</td>\n",
       "      <td>42</td>\n",
       "      <td>51.000000</td>\n",
       "      <td>800</td>\n",
       "    </tr>\n",
       "    <tr>\n",
       "      <th>7916</th>\n",
       "      <td>Chevrolet</td>\n",
       "      <td>Volt</td>\n",
       "      <td>2016</td>\n",
       "      <td>1.5</td>\n",
       "      <td>4.0</td>\n",
       "      <td>Automatic (variable gear ratios)</td>\n",
       "      <td>Front-Wheel Drive</td>\n",
       "      <td>Compact Cars</td>\n",
       "      <td>Regular Gas or Electricity</td>\n",
       "      <td>2.006844</td>\n",
       "      <td>43</td>\n",
       "      <td>42</td>\n",
       "      <td>42</td>\n",
       "      <td>51.000000</td>\n",
       "      <td>800</td>\n",
       "    </tr>\n",
       "  </tbody>\n",
       "</table>\n",
       "<p>35952 rows × 15 columns</p>\n",
       "</div>"
      ],
      "text/plain": [
       "            Make                             Model  Year  Engine Displacement  \\\n",
       "32600     Toyota                         Camry CNG  1999                  2.2   \n",
       "12572       Ford                          F150 CNG  2001                  5.4   \n",
       "12573       Ford                          F150 CNG  2002                  5.4   \n",
       "15634        GMC      Savana Cargo (dedicated CNG)  2004                  6.0   \n",
       "15636        GMC  Savana Passenger (dedicated CNG)  2004                  6.0   \n",
       "...          ...                               ...   ...                  ...   \n",
       "11639       Ford       C-MAX Energi Plug-in Hybrid  2013                  2.0   \n",
       "17059      Honda             Accord Plug-in Hybrid  2014                  2.0   \n",
       "13409       Ford      Fusion Energi Plug-in Hybrid  2014                  2.0   \n",
       "7917   Chevrolet                              Volt  2017                  1.5   \n",
       "7916   Chevrolet                              Volt  2016                  1.5   \n",
       "\n",
       "       Cylinders                      Transmission         Drivetrain  \\\n",
       "32600        4.0                   Automatic 4-spd  Front-Wheel Drive   \n",
       "12572        8.0                   Automatic 4-spd   Rear-Wheel Drive   \n",
       "12573        8.0                   Automatic 4-spd   Rear-Wheel Drive   \n",
       "15634        8.0                   Automatic 4-spd   Rear-Wheel Drive   \n",
       "15636        8.0                   Automatic 4-spd   Rear-Wheel Drive   \n",
       "...          ...                               ...                ...   \n",
       "11639        4.0  Automatic (variable gear ratios)  Front-Wheel Drive   \n",
       "17059        4.0  Automatic (variable gear ratios)  Front-Wheel Drive   \n",
       "13409        4.0  Automatic (variable gear ratios)  Front-Wheel Drive   \n",
       "7917         4.0  Automatic (variable gear ratios)  Front-Wheel Drive   \n",
       "7916         4.0  Automatic (variable gear ratios)  Front-Wheel Drive   \n",
       "\n",
       "                    Vehicle Class                    Fuel Type  \\\n",
       "32600                Compact Cars                          CNG   \n",
       "12572  Standard Pickup Trucks 2WD                          CNG   \n",
       "12573  Standard Pickup Trucks 2WD                          CNG   \n",
       "15634            Vans, Cargo Type                          CNG   \n",
       "15636        Vans, Passenger Type                          CNG   \n",
       "...                           ...                          ...   \n",
       "11639                Midsize Cars  Regular Gas and Electricity   \n",
       "17059                Midsize Cars  Regular Gas and Electricity   \n",
       "13409                Midsize Cars  Regular Gas and Electricity   \n",
       "7917                 Compact Cars   Regular Gas or Electricity   \n",
       "7916                 Compact Cars   Regular Gas or Electricity   \n",
       "\n",
       "       Fuel Barrels/Year  City MPG  Highway MPG  Combined MPG  \\\n",
       "32600           0.080870        20           28            23   \n",
       "12572           0.143077        11           15            13   \n",
       "12573           0.155000        11           15            12   \n",
       "15634           0.155000        11           15            12   \n",
       "15636           0.155000        11           15            12   \n",
       "...                  ...       ...          ...           ...   \n",
       "11639           4.878704        40           36            38   \n",
       "17059           4.827657        47           46            46   \n",
       "13409           4.878704        40           36            38   \n",
       "7917            2.006844        43           42            42   \n",
       "7916            2.006844        43           42            42   \n",
       "\n",
       "       CO2 Emission Grams/Mile  Fuel Cost/Year  \n",
       "32600               308.240217            1300  \n",
       "12572               545.348077            2350  \n",
       "12573               590.793750            2500  \n",
       "15634               590.793750            2500  \n",
       "15636               590.793750            2500  \n",
       "...                        ...             ...  \n",
       "11639               129.000000             900  \n",
       "17059               130.000000             700  \n",
       "13409               129.000000             900  \n",
       "7917                 51.000000             800  \n",
       "7916                 51.000000             800  \n",
       "\n",
       "[35952 rows x 15 columns]"
      ]
     },
     "execution_count": 66,
     "metadata": {},
     "output_type": "execute_result"
    }
   ],
   "source": [
    "df.sort_values('Fuel Type')"
   ]
  },
  {
   "cell_type": "code",
   "execution_count": 68,
   "id": "261c83e6",
   "metadata": {},
   "outputs": [
    {
     "name": "stdout",
     "output_type": "stream",
     "text": [
      "No.of.unique values : 13\n"
     ]
    }
   ],
   "source": [
    "n = len(pd.unique(df['Fuel Type']))\n",
    "  \n",
    "print(\"No.of.unique values :\", \n",
    "      n)"
   ]
  },
  {
   "cell_type": "code",
   "execution_count": null,
   "id": "a3b65d48",
   "metadata": {},
   "outputs": [],
   "source": [
    "def unique(list1):\n",
    "    x = np.array(list1)\n",
    "    print(np.unique(x))\n",
    "    \n",
    "\n",
    "print(\"the unique values from 1st list is\")\n",
    "unique(list1)"
   ]
  },
  {
   "cell_type": "code",
   "execution_count": 76,
   "id": "06fb4e1a",
   "metadata": {},
   "outputs": [
    {
     "data": {
      "text/plain": [
       "['Regular',\n",
       " 'Regular',\n",
       " 'Regular',\n",
       " 'Regular',\n",
       " 'Regular',\n",
       " 'Regular',\n",
       " 'Regular',\n",
       " 'Regular',\n",
       " 'Regular',\n",
       " 'Premium',\n",
       " 'Premium',\n",
       " 'Premium',\n",
       " 'Premium',\n",
       " 'Premium',\n",
       " 'Premium',\n",
       " 'Premium',\n",
       " 'Premium',\n",
       " 'Premium',\n",
       " 'Premium',\n",
       " 'Premium',\n",
       " 'Premium',\n",
       " 'Premium',\n",
       " 'Premium',\n",
       " 'Premium',\n",
       " 'Premium',\n",
       " 'Premium',\n",
       " 'Premium',\n",
       " 'Premium',\n",
       " 'Premium',\n",
       " 'Premium',\n",
       " 'Premium',\n",
       " 'Premium',\n",
       " 'Premium',\n",
       " 'Premium',\n",
       " 'Premium',\n",
       " 'Premium',\n",
       " 'Premium',\n",
       " 'Premium',\n",
       " 'Premium',\n",
       " 'Premium',\n",
       " 'Premium',\n",
       " 'Premium',\n",
       " 'Premium',\n",
       " 'Premium',\n",
       " 'Regular',\n",
       " 'Regular',\n",
       " 'Regular',\n",
       " 'Regular',\n",
       " 'Regular',\n",
       " 'Regular',\n",
       " 'Regular',\n",
       " 'Regular',\n",
       " 'Regular',\n",
       " 'Regular',\n",
       " 'Regular',\n",
       " 'Regular',\n",
       " 'Premium',\n",
       " 'Regular',\n",
       " 'Regular',\n",
       " 'Premium',\n",
       " 'Regular',\n",
       " 'Regular',\n",
       " 'Premium',\n",
       " 'Regular',\n",
       " 'Regular',\n",
       " 'Premium',\n",
       " 'Regular',\n",
       " 'Regular',\n",
       " 'Premium',\n",
       " 'Regular',\n",
       " 'Regular',\n",
       " 'Premium',\n",
       " 'Regular',\n",
       " 'Regular',\n",
       " 'Regular',\n",
       " 'Regular',\n",
       " 'Premium',\n",
       " 'Regular',\n",
       " 'Regular',\n",
       " 'Premium',\n",
       " 'Regular',\n",
       " 'Regular',\n",
       " 'Premium',\n",
       " 'Regular',\n",
       " 'Regular',\n",
       " 'Premium',\n",
       " 'Regular',\n",
       " 'Regular',\n",
       " 'Regular',\n",
       " 'Regular',\n",
       " 'Regular',\n",
       " 'Regular',\n",
       " 'Regular',\n",
       " 'Regular',\n",
       " 'Regular',\n",
       " 'Regular',\n",
       " 'Regular',\n",
       " 'Regular',\n",
       " 'Premium',\n",
       " 'Premium',\n",
       " 'Premium',\n",
       " 'Premium',\n",
       " 'Premium',\n",
       " 'Premium',\n",
       " 'Premium',\n",
       " 'Premium',\n",
       " 'Premium',\n",
       " 'Premium',\n",
       " 'Premium',\n",
       " 'Premium',\n",
       " 'Premium',\n",
       " 'Premium',\n",
       " 'Premium',\n",
       " 'Premium',\n",
       " 'Premium',\n",
       " 'Premium',\n",
       " 'Premium',\n",
       " 'Premium',\n",
       " 'Premium',\n",
       " 'Premium',\n",
       " 'Premium',\n",
       " 'Premium',\n",
       " 'Premium',\n",
       " 'Premium',\n",
       " 'Premium',\n",
       " 'Premium',\n",
       " 'Premium',\n",
       " 'Premium',\n",
       " 'Premium',\n",
       " 'Premium',\n",
       " 'Premium',\n",
       " 'Premium',\n",
       " 'Premium',\n",
       " 'Premium',\n",
       " 'Premium',\n",
       " 'Premium',\n",
       " 'Premium',\n",
       " 'Premium',\n",
       " 'Premium',\n",
       " 'Premium',\n",
       " 'Premium',\n",
       " 'Premium',\n",
       " 'Premium',\n",
       " 'Premium',\n",
       " 'Premium',\n",
       " 'Premium',\n",
       " 'Premium',\n",
       " 'Premium',\n",
       " 'Premium',\n",
       " 'Premium',\n",
       " 'Premium',\n",
       " 'Premium',\n",
       " 'Premium',\n",
       " 'Premium',\n",
       " 'Premium',\n",
       " 'Premium',\n",
       " 'Premium',\n",
       " 'Premium',\n",
       " 'Premium',\n",
       " 'Premium',\n",
       " 'Premium',\n",
       " 'Premium',\n",
       " 'Premium',\n",
       " 'Premium',\n",
       " 'Premium',\n",
       " 'Premium',\n",
       " 'Premium',\n",
       " 'Premium',\n",
       " 'Premium',\n",
       " 'Premium',\n",
       " 'Premium',\n",
       " 'Premium',\n",
       " 'Premium',\n",
       " 'Premium',\n",
       " 'Premium',\n",
       " 'Premium',\n",
       " 'Premium',\n",
       " 'Premium',\n",
       " 'Premium',\n",
       " 'Premium',\n",
       " 'Premium',\n",
       " 'Premium',\n",
       " 'Premium',\n",
       " 'Premium',\n",
       " 'Premium',\n",
       " 'Premium',\n",
       " 'Premium',\n",
       " 'Premium',\n",
       " 'Premium',\n",
       " 'Premium',\n",
       " 'Premium',\n",
       " 'Premium',\n",
       " 'Premium',\n",
       " 'Premium',\n",
       " 'Premium',\n",
       " 'Premium',\n",
       " 'Premium',\n",
       " 'Premium',\n",
       " 'Premium',\n",
       " 'Premium',\n",
       " 'Premium',\n",
       " 'Premium',\n",
       " 'Regular',\n",
       " 'Premium',\n",
       " 'Regular',\n",
       " 'Regular',\n",
       " 'Premium',\n",
       " 'Regular',\n",
       " 'Regular',\n",
       " 'Premium',\n",
       " 'Regular',\n",
       " 'Regular',\n",
       " 'Premium',\n",
       " 'Regular',\n",
       " 'Regular',\n",
       " 'Premium',\n",
       " 'Regular',\n",
       " 'Regular',\n",
       " 'Regular',\n",
       " 'Regular',\n",
       " 'Regular',\n",
       " 'Regular',\n",
       " 'Regular',\n",
       " 'Premium',\n",
       " 'Premium',\n",
       " 'Premium',\n",
       " 'Premium',\n",
       " 'Premium',\n",
       " 'Premium',\n",
       " 'Premium',\n",
       " 'Premium',\n",
       " 'Premium',\n",
       " 'Premium',\n",
       " 'Premium',\n",
       " 'Premium',\n",
       " 'Premium',\n",
       " 'Premium',\n",
       " 'Premium',\n",
       " 'Premium',\n",
       " 'Premium',\n",
       " 'Premium',\n",
       " 'Premium',\n",
       " 'Premium',\n",
       " 'Premium',\n",
       " 'Premium',\n",
       " 'Premium',\n",
       " 'Premium',\n",
       " 'Premium',\n",
       " 'Premium',\n",
       " 'Premium',\n",
       " 'Premium',\n",
       " 'Premium',\n",
       " 'Premium',\n",
       " 'Premium',\n",
       " 'Premium',\n",
       " 'Premium',\n",
       " 'Premium',\n",
       " 'Premium',\n",
       " 'Premium',\n",
       " 'Premium',\n",
       " 'Premium',\n",
       " 'Premium',\n",
       " 'Premium',\n",
       " 'Premium',\n",
       " 'Premium',\n",
       " 'Premium',\n",
       " 'Premium',\n",
       " 'Premium',\n",
       " 'Premium',\n",
       " 'Premium',\n",
       " 'Premium',\n",
       " 'Premium',\n",
       " 'Premium',\n",
       " 'Premium',\n",
       " 'Premium',\n",
       " 'Premium',\n",
       " 'Premium',\n",
       " 'Premium',\n",
       " 'Premium',\n",
       " 'Premium',\n",
       " 'Premium',\n",
       " 'Premium',\n",
       " 'Premium',\n",
       " 'Premium',\n",
       " 'Premium',\n",
       " 'Premium',\n",
       " 'Premium',\n",
       " 'Premium',\n",
       " 'Premium',\n",
       " 'Premium',\n",
       " 'Premium',\n",
       " 'Premium',\n",
       " 'Premium',\n",
       " 'Premium',\n",
       " 'Premium',\n",
       " 'Premium',\n",
       " 'Premium',\n",
       " 'Premium',\n",
       " 'Premium',\n",
       " 'Premium',\n",
       " 'Premium',\n",
       " 'Premium']"
      ]
     },
     "execution_count": 76,
     "metadata": {},
     "output_type": "execute_result"
    }
   ],
   "source": [
    "df1['Fuel Type'].tolist()\n"
   ]
  },
  {
   "cell_type": "markdown",
   "id": "cfdc3b9c",
   "metadata": {},
   "source": [
    "### Q3. What are all the different types of fuels in the dataset sorted alphabetically?"
   ]
  },
  {
   "cell_type": "code",
   "execution_count": 94,
   "id": "76a36d99",
   "metadata": {},
   "outputs": [
    {
     "name": "stdout",
     "output_type": "stream",
     "text": [
      "['CNG', 'Diesel', 'Gasoline or E85', 'Gasoline or natural gas', 'Gasoline or propane', 'Midgrade', 'Premium', 'Premium Gas or Electricity', 'Premium and Electricity', 'Premium or E85', 'Regular', 'Regular Gas and Electricity', 'Regular Gas or Electricity']\n",
      "\n",
      "\n",
      "['Regular' 'Premium' 'Diesel' 'Premium and Electricity' 'Premium or E85'\n",
      " 'Premium Gas or Electricity' 'Gasoline or E85' 'Gasoline or natural gas'\n",
      " 'CNG' 'Regular Gas or Electricity' 'Midgrade'\n",
      " 'Regular Gas and Electricity' 'Gasoline or propane']\n"
     ]
    }
   ],
   "source": [
    "Q3DFR = (df['Fuel Type'].unique())\n",
    "print(sorted(Q3DFR))\n",
    "print(\"\")\n",
    "print(\"\")\n",
    "print(Q3DFR)"
   ]
  },
  {
   "cell_type": "code",
   "execution_count": 95,
   "id": "2baa872b",
   "metadata": {},
   "outputs": [
    {
     "name": "stdout",
     "output_type": "stream",
     "text": [
      "['DJ Po Vehicle 2WD' 'FJ8c Post Office' 'Post Office DJ5 2WD'\n",
      " 'Post Office DJ8 2WD']\n"
     ]
    }
   ],
   "source": [
    "Q3DF=df[df[\"Make\"]==\"AM General\"]\n",
    "print(Q3DF['Model'].unique())"
   ]
  },
  {
   "cell_type": "code",
   "execution_count": 82,
   "id": "2b95a144",
   "metadata": {},
   "outputs": [
    {
     "data": {
      "text/html": [
       "<div>\n",
       "<style scoped>\n",
       "    .dataframe tbody tr th:only-of-type {\n",
       "        vertical-align: middle;\n",
       "    }\n",
       "\n",
       "    .dataframe tbody tr th {\n",
       "        vertical-align: top;\n",
       "    }\n",
       "\n",
       "    .dataframe thead th {\n",
       "        text-align: right;\n",
       "    }\n",
       "</style>\n",
       "<table border=\"1\" class=\"dataframe\">\n",
       "  <thead>\n",
       "    <tr style=\"text-align: right;\">\n",
       "      <th></th>\n",
       "      <th>Make</th>\n",
       "      <th>Model</th>\n",
       "      <th>Year</th>\n",
       "      <th>Engine Displacement</th>\n",
       "      <th>Cylinders</th>\n",
       "      <th>Transmission</th>\n",
       "      <th>Drivetrain</th>\n",
       "      <th>Vehicle Class</th>\n",
       "      <th>Fuel Type</th>\n",
       "      <th>Fuel Barrels/Year</th>\n",
       "      <th>City MPG</th>\n",
       "      <th>Highway MPG</th>\n",
       "      <th>Combined MPG</th>\n",
       "      <th>CO2 Emission Grams/Mile</th>\n",
       "      <th>Fuel Cost/Year</th>\n",
       "    </tr>\n",
       "  </thead>\n",
       "  <tbody>\n",
       "    <tr>\n",
       "      <th>0</th>\n",
       "      <td>AM General</td>\n",
       "      <td>DJ Po Vehicle 2WD</td>\n",
       "      <td>1984</td>\n",
       "      <td>2.5</td>\n",
       "      <td>4.0</td>\n",
       "      <td>Automatic 3-spd</td>\n",
       "      <td>2-Wheel Drive</td>\n",
       "      <td>Special Purpose Vehicle 2WD</td>\n",
       "      <td>Regular</td>\n",
       "      <td>19.388824</td>\n",
       "      <td>18</td>\n",
       "      <td>17</td>\n",
       "      <td>17</td>\n",
       "      <td>522.764706</td>\n",
       "      <td>1950</td>\n",
       "    </tr>\n",
       "    <tr>\n",
       "      <th>1</th>\n",
       "      <td>AM General</td>\n",
       "      <td>FJ8c Post Office</td>\n",
       "      <td>1984</td>\n",
       "      <td>4.2</td>\n",
       "      <td>6.0</td>\n",
       "      <td>Automatic 3-spd</td>\n",
       "      <td>2-Wheel Drive</td>\n",
       "      <td>Special Purpose Vehicle 2WD</td>\n",
       "      <td>Regular</td>\n",
       "      <td>25.354615</td>\n",
       "      <td>13</td>\n",
       "      <td>13</td>\n",
       "      <td>13</td>\n",
       "      <td>683.615385</td>\n",
       "      <td>2550</td>\n",
       "    </tr>\n",
       "    <tr>\n",
       "      <th>2</th>\n",
       "      <td>AM General</td>\n",
       "      <td>Post Office DJ5 2WD</td>\n",
       "      <td>1985</td>\n",
       "      <td>2.5</td>\n",
       "      <td>4.0</td>\n",
       "      <td>Automatic 3-spd</td>\n",
       "      <td>Rear-Wheel Drive</td>\n",
       "      <td>Special Purpose Vehicle 2WD</td>\n",
       "      <td>Regular</td>\n",
       "      <td>20.600625</td>\n",
       "      <td>16</td>\n",
       "      <td>17</td>\n",
       "      <td>16</td>\n",
       "      <td>555.437500</td>\n",
       "      <td>2100</td>\n",
       "    </tr>\n",
       "    <tr>\n",
       "      <th>3</th>\n",
       "      <td>AM General</td>\n",
       "      <td>Post Office DJ8 2WD</td>\n",
       "      <td>1985</td>\n",
       "      <td>4.2</td>\n",
       "      <td>6.0</td>\n",
       "      <td>Automatic 3-spd</td>\n",
       "      <td>Rear-Wheel Drive</td>\n",
       "      <td>Special Purpose Vehicle 2WD</td>\n",
       "      <td>Regular</td>\n",
       "      <td>25.354615</td>\n",
       "      <td>13</td>\n",
       "      <td>13</td>\n",
       "      <td>13</td>\n",
       "      <td>683.615385</td>\n",
       "      <td>2550</td>\n",
       "    </tr>\n",
       "  </tbody>\n",
       "</table>\n",
       "</div>"
      ],
      "text/plain": [
       "         Make                Model  Year  Engine Displacement  Cylinders  \\\n",
       "0  AM General    DJ Po Vehicle 2WD  1984                  2.5        4.0   \n",
       "1  AM General     FJ8c Post Office  1984                  4.2        6.0   \n",
       "2  AM General  Post Office DJ5 2WD  1985                  2.5        4.0   \n",
       "3  AM General  Post Office DJ8 2WD  1985                  4.2        6.0   \n",
       "\n",
       "      Transmission        Drivetrain                Vehicle Class Fuel Type  \\\n",
       "0  Automatic 3-spd     2-Wheel Drive  Special Purpose Vehicle 2WD   Regular   \n",
       "1  Automatic 3-spd     2-Wheel Drive  Special Purpose Vehicle 2WD   Regular   \n",
       "2  Automatic 3-spd  Rear-Wheel Drive  Special Purpose Vehicle 2WD   Regular   \n",
       "3  Automatic 3-spd  Rear-Wheel Drive  Special Purpose Vehicle 2WD   Regular   \n",
       "\n",
       "   Fuel Barrels/Year  City MPG  Highway MPG  Combined MPG  \\\n",
       "0          19.388824        18           17            17   \n",
       "1          25.354615        13           13            13   \n",
       "2          20.600625        16           17            16   \n",
       "3          25.354615        13           13            13   \n",
       "\n",
       "   CO2 Emission Grams/Mile  Fuel Cost/Year  \n",
       "0               522.764706            1950  \n",
       "1               683.615385            2550  \n",
       "2               555.437500            2100  \n",
       "3               683.615385            2550  "
      ]
     },
     "execution_count": 82,
     "metadata": {},
     "output_type": "execute_result"
    }
   ],
   "source": [
    "Q3DF"
   ]
  },
  {
   "cell_type": "markdown",
   "id": "22820d9d",
   "metadata": {},
   "source": [
    "## Q6. What are the top 5 lowest CO2 Emission Grams/Mile emmisions of cars for each of the following brands: Toyota, Ford, Volkswagen, Nissan, Honda"
   ]
  },
  {
   "cell_type": "code",
   "execution_count": 102,
   "id": "e60fd3e2",
   "metadata": {},
   "outputs": [
    {
     "data": {
      "text/plain": [
       "249.000000      1\n",
       "601.000000      1\n",
       "554.000000      1\n",
       "594.000000      1\n",
       "448.000000      1\n",
       "             ... \n",
       "555.437500    101\n",
       "423.190476    130\n",
       "403.954545    131\n",
       "467.736842    143\n",
       "493.722222    173\n",
       "Name: CO2 Emission Grams/Mile, Length: 177, dtype: int64"
      ]
     },
     "execution_count": 102,
     "metadata": {},
     "output_type": "execute_result"
    }
   ],
   "source": [
    "Q6DFR=df[df[\"Make\"]==\"Toyota\"]\n",
    "Q6DFR['CO2 Emission Grams/Mile'].value_counts().sort_values(ascending=True)"
   ]
  },
  {
   "cell_type": "code",
   "execution_count": 119,
   "id": "3d4c50eb",
   "metadata": {},
   "outputs": [
    {
     "name": "stdout",
     "output_type": "stream",
     "text": [
      "Toyota\n"
     ]
    },
    {
     "data": {
      "text/plain": [
       "1    683.615385\n",
       "3    683.615385\n",
       "2    555.437500\n",
       "0    522.764706\n",
       "Name: CO2 Emission Grams/Mile, dtype: float64"
      ]
     },
     "execution_count": 119,
     "metadata": {},
     "output_type": "execute_result"
    }
   ],
   "source": [
    "Q6TDFR=df[df[\"Make\"]==\"AM General\"]\n",
    "print(\"Toyota\")\n",
    "Q6TDFR['CO2 Emission Grams/Mile'].nlargest(n=4)"
   ]
  },
  {
   "cell_type": "code",
   "execution_count": 118,
   "id": "b99b5aef",
   "metadata": {},
   "outputs": [
    {
     "data": {
      "text/plain": [
       "0    522.764706\n",
       "2    555.437500\n",
       "1    683.615385\n",
       "3    683.615385\n",
       "Name: CO2 Emission Grams/Mile, dtype: float64"
      ]
     },
     "execution_count": 118,
     "metadata": {},
     "output_type": "execute_result"
    }
   ],
   "source": [
    "Q6TDFR=df[df[\"Make\"]==\"AM General\"]\n",
    "Q6TDFR['CO2 Emission Grams/Mile'].nsmallest(n=4)"
   ]
  },
  {
   "cell_type": "code",
   "execution_count": 126,
   "id": "c3e8eb3c",
   "metadata": {},
   "outputs": [
    {
     "name": "stdout",
     "output_type": "stream",
     "text": [
      "Toyota\n"
     ]
    },
    {
     "data": {
      "text/plain": [
       "177.74    4\n",
       "133.00    4\n",
       "178.00    3\n",
       "158.00    2\n",
       "171.00    1\n",
       "170.00    1\n",
       "Name: CO2 Emission Grams/Mile, dtype: int64"
      ]
     },
     "execution_count": 126,
     "metadata": {},
     "output_type": "execute_result"
    }
   ],
   "source": [
    "RQ6TDFR=df[df[\"Make\"]==\"Toyota\"]\n",
    "print(\"Toyota\")\n",
    "RQ6TDFR['CO2 Emission Grams/Mile'].nsmallest(n=15).sort_values(ascending=False).value_counts()"
   ]
  },
  {
   "cell_type": "code",
   "execution_count": 129,
   "id": "215bd785",
   "metadata": {},
   "outputs": [
    {
     "name": "stdout",
     "output_type": "stream",
     "text": [
      "Ford\n"
     ]
    },
    {
     "data": {
      "text/plain": [
       "129.0    8\n",
       "209.0    2\n",
       "211.0    2\n",
       "112.0    1\n",
       "210.0    1\n",
       "222.0    1\n",
       "Name: CO2 Emission Grams/Mile, dtype: int64"
      ]
     },
     "execution_count": 129,
     "metadata": {},
     "output_type": "execute_result"
    }
   ],
   "source": [
    "Q6FDFR=df[df[\"Make\"]==\"Ford\"]\n",
    "print(\"Ford\")\n",
    "Q6FDFR['CO2 Emission Grams/Mile'].nsmallest(n=15).sort_values(ascending=True).value_counts()"
   ]
  },
  {
   "cell_type": "code",
   "execution_count": 131,
   "id": "fc6864b6",
   "metadata": {},
   "outputs": [
    {
     "name": "stdout",
     "output_type": "stream",
     "text": [
      "Volkswagen\n"
     ]
    },
    {
     "data": {
      "text/plain": [
       "200.000000    4\n",
       "267.894737    4\n",
       "261.025641    2\n",
       "Name: CO2 Emission Grams/Mile, dtype: int64"
      ]
     },
     "execution_count": 131,
     "metadata": {},
     "output_type": "execute_result"
    }
   ],
   "source": [
    "Q6VDFR=df[df[\"Make\"]==\"Volkswagen\"]\n",
    "print(\"Volkswagen\")\n",
    "Q6VDFR['CO2 Emission Grams/Mile'].nsmallest(n=10).sort_values(ascending=True).value_counts()"
   ]
  },
  {
   "cell_type": "code",
   "execution_count": 144,
   "id": "32a85dc6",
   "metadata": {},
   "outputs": [
    {
     "name": "stdout",
     "output_type": "stream",
     "text": [
      "['CO2 Emission Grams/Mile', 'City MPG', 'Combined MPG', 'Cylinders', 'Drivetrain', 'Engine Displacement', 'Fuel Barrels/Year', 'Fuel Cost/Year', 'Fuel Type', 'Highway MPG', 'Make', 'Model', 'Transmission', 'Vehicle Class', 'Year']\n"
     ]
    }
   ],
   "source": [
    "Presencia=df[df[\"Make\"]==\"Volkswagen\"]\n",
    "Presencia[\"CO2 Emission Grams/Mile\"]\n",
    "print(sorted(Presencia))"
   ]
  },
  {
   "cell_type": "code",
   "execution_count": 162,
   "id": "ab27bbb3",
   "metadata": {},
   "outputs": [
    {
     "name": "stdout",
     "output_type": "stream",
     "text": [
      "Nissan\n"
     ]
    },
    {
     "data": {
      "text/plain": [
       "254.500000    3\n",
       "260.000000    2\n",
       "249.000000    1\n",
       "254.000000    1\n",
       "255.000000    1\n",
       "257.000000    1\n",
       "261.382353    1\n",
       "Name: CO2 Emission Grams/Mile, dtype: int64"
      ]
     },
     "execution_count": 162,
     "metadata": {},
     "output_type": "execute_result"
    }
   ],
   "source": [
    "Q6NDFR=df[df[\"Make\"]==\"Nissan\"]\n",
    "print(\"Nissan\")\n",
    "Q6NDFR['CO2 Emission Grams/Mile'].nsmallest(n=10).sort_values(ascending=True).value_counts()"
   ]
  },
  {
   "cell_type": "code",
   "execution_count": 163,
   "id": "40ccf3a9",
   "metadata": {},
   "outputs": [
    {
     "name": "stdout",
     "output_type": "stream",
     "text": [
      "Honda\n"
     ]
    },
    {
     "data": {
      "text/plain": [
       "[130.0,\n",
       " 167.67924528301887,\n",
       " 167.67924528301887,\n",
       " 167.67924528301887,\n",
       " 167.67924528301887,\n",
       " 170.90384615384616,\n",
       " 170.90384615384616,\n",
       " 170.90384615384616,\n",
       " 183.0,\n",
       " 188.0]"
      ]
     },
     "execution_count": 163,
     "metadata": {},
     "output_type": "execute_result"
    }
   ],
   "source": [
    "Q6HDFR=df[df[\"Make\"]==\"Honda\"]\n",
    "print(\"Honda\")\n",
    "Q6HDFR['CO2 Emission Grams/Mile'].nsmallest(10).to_list()\n",
    "\n",
    "\n"
   ]
  },
  {
   "cell_type": "code",
   "execution_count": 164,
   "id": "d40442a9",
   "metadata": {},
   "outputs": [
    {
     "name": "stdout",
     "output_type": "stream",
     "text": [
      "Toyota\n"
     ]
    },
    {
     "data": {
      "text/plain": [
       "[133.0, 133.0, 133.0, 133.0, 158.0, 158.0, 170.0, 171.0, 177.74, 177.74]"
      ]
     },
     "execution_count": 164,
     "metadata": {},
     "output_type": "execute_result"
    }
   ],
   "source": [
    "Q6Toyo=df[df[\"Make\"]==\"Toyota\"]\n",
    "print(\"Toyota\")\n",
    "Q6Toyo['CO2 Emission Grams/Mile'].nsmallest(10).to_list()\n"
   ]
  },
  {
   "cell_type": "markdown",
   "id": "7f4e21cb",
   "metadata": {},
   "source": [
    "## Q5"
   ]
  },
  {
   "cell_type": "code",
   "execution_count": 7,
   "id": "649f4084",
   "metadata": {
    "scrolled": true
   },
   "outputs": [
    {
     "data": {
      "text/plain": [
       "1"
      ]
     },
     "execution_count": 7,
     "metadata": {},
     "output_type": "execute_result"
    }
   ],
   "source": []
  },
  {
   "cell_type": "code",
   "execution_count": null,
   "id": "f703cfb8",
   "metadata": {},
   "outputs": [],
   "source": []
  }
 ],
 "metadata": {
  "kernelspec": {
   "display_name": "Python 3 (ipykernel)",
   "language": "python",
   "name": "python3"
  },
  "language_info": {
   "codemirror_mode": {
    "name": "ipython",
    "version": 3
   },
   "file_extension": ".py",
   "mimetype": "text/x-python",
   "name": "python",
   "nbconvert_exporter": "python",
   "pygments_lexer": "ipython3",
   "version": "3.9.12"
  }
 },
 "nbformat": 4,
 "nbformat_minor": 5
}
