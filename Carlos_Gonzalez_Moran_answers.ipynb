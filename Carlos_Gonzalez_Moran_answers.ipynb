{
 "cells": [
  {
   "cell_type": "code",
   "execution_count": 1,
   "id": "eef482a4",
   "metadata": {
    "scrolled": true
   },
   "outputs": [
    {
     "name": "stdout",
     "output_type": "stream",
     "text": [
      "<class 'pandas.core.frame.DataFrame'>\n",
      "RangeIndex: 35952 entries, 0 to 35951\n",
      "Data columns (total 15 columns):\n",
      " #   Column                   Non-Null Count  Dtype  \n",
      "---  ------                   --------------  -----  \n",
      " 0   Make                     35952 non-null  object \n",
      " 1   Model                    35952 non-null  object \n",
      " 2   Year                     35952 non-null  int64  \n",
      " 3   Engine Displacement      35952 non-null  float64\n",
      " 4   Cylinders                35952 non-null  float64\n",
      " 5   Transmission             35952 non-null  object \n",
      " 6   Drivetrain               35952 non-null  object \n",
      " 7   Vehicle Class            35952 non-null  object \n",
      " 8   Fuel Type                35952 non-null  object \n",
      " 9   Fuel Barrels/Year        35952 non-null  float64\n",
      " 10  City MPG                 35952 non-null  int64  \n",
      " 11  Highway MPG              35952 non-null  int64  \n",
      " 12  Combined MPG             35952 non-null  int64  \n",
      " 13  CO2 Emission Grams/Mile  35952 non-null  float64\n",
      " 14  Fuel Cost/Year           35952 non-null  int64  \n",
      "dtypes: float64(4), int64(5), object(6)\n",
      "memory usage: 4.1+ MB\n"
     ]
    }
   ],
   "source": [
    "#Carlos Gonzalez_created on Jun 2nd 2022\n",
    "import pandas as pd\n",
    "import numpy as np\n",
    "url='https://drive.google.com/file/d/1PCJ7ltluquoXKi6MYTPMfwZQNI_-MIFP/view?usp=sharing'\n",
    "url='https://drive.google.com/uc?id=' + url.split('/')[-2]\n",
    "df = pd.read_csv(url)\n",
    "df.head()\n",
    "df.info()"
   ]
  },
  {
   "cell_type": "code",
   "execution_count": 9,
   "id": "c46ea3ad",
   "metadata": {},
   "outputs": [],
   "source": [
    "answer_dict =  {\"Q1\" : None,\n",
    "                \"Q2\" : None,\n",
    "                \"Q3\" : None,\n",
    "                \"Q4\" : None,\n",
    "                \"Q5\" : None,\n",
    "                \"Q6\" : None,\n",
    "                \"Q7\" : None}"
   ]
  },
  {
   "cell_type": "markdown",
   "id": "23191bc7",
   "metadata": {},
   "source": [
    "## Q1_What is the average CO2 emmission per gram/mile of all Volkswagen cars?"
   ]
  },
  {
   "cell_type": "code",
   "execution_count": 13,
   "id": "7fb4021e",
   "metadata": {
    "scrolled": true
   },
   "outputs": [
    {
     "data": {
      "text/plain": [
       "{'Q1': 392.7417210857633,\n",
       " 'Q2': None,\n",
       " 'Q3': None,\n",
       " 'Q4': None,\n",
       " 'Q5': None,\n",
       " 'Q6': None,\n",
       " 'Q7': None}"
      ]
     },
     "execution_count": 13,
     "metadata": {},
     "output_type": "execute_result"
    }
   ],
   "source": [
    "#Q1  What is the average CO2 emmission per gram/mile of all Volkswagen cars?\n",
    "df1=df[df[\"Make\"]==\"Volkswagen\"]\n",
    "answer_dict[\"Q1\"] = df1[\"CO2 Emission Grams/Mile\"].mean()\n",
    "answer_dict"
   ]
  },
  {
   "cell_type": "markdown",
   "id": "1baec7ac",
   "metadata": {},
   "source": [
    "### #Q2. Calculate the top 5 brands(Make) with the most unique models, order your answer in descending order with respect to the number of unique models\n"
   ]
  },
  {
   "cell_type": "code",
   "execution_count": 26,
   "id": "58a4377d",
   "metadata": {},
   "outputs": [
    {
     "data": {
      "text/plain": [
       "DJ Po Vehicle 2WD      1\n",
       "FJ8c Post Office       1\n",
       "Post Office DJ5 2WD    1\n",
       "Post Office DJ8 2WD    1\n",
       "Name: Model, dtype: int64"
      ]
     },
     "execution_count": 26,
     "metadata": {},
     "output_type": "execute_result"
    }
   ],
   "source": [
    "df1=df[df[\"Make\"]==\"AM General\"]\n",
    "df1[\"Model\"].value_counts()"
   ]
  },
  {
   "cell_type": "code",
   "execution_count": 40,
   "id": "e85cf6e5",
   "metadata": {
    "scrolled": true
   },
   "outputs": [
    {
     "data": {
      "text/plain": [
       "F150 Pickup 2WD      197\n",
       "F150 Pickup 4WD      179\n",
       "Truck 2WD            173\n",
       "Mustang              170\n",
       "Jetta                169\n",
       "                    ... \n",
       "C300 Convertible       1\n",
       "C300 Coupe             1\n",
       "C300 FFV               1\n",
       "C320 4matic Sedan      1\n",
       "DJ Po Vehicle 2WD      1\n",
       "Name: Model, Length: 3608, dtype: int64"
      ]
     },
     "execution_count": 40,
     "metadata": {},
     "output_type": "execute_result"
    }
   ],
   "source": [
    "df[\"Model\"].value_counts()"
   ]
  },
  {
   "cell_type": "markdown",
   "id": "cfdc3b9c",
   "metadata": {},
   "source": [
    "### Q3. What are all the different types of fuels in the dataset sorted alphabetically?"
   ]
  },
  {
   "cell_type": "code",
   "execution_count": 15,
   "id": "76a36d99",
   "metadata": {
    "scrolled": true
   },
   "outputs": [
    {
     "data": {
      "text/plain": [
       "{'Q1': 392.7417210857633,\n",
       " 'Q2': None,\n",
       " 'Q3': ['CNG',\n",
       "  'Diesel',\n",
       "  'Gasoline or E85',\n",
       "  'Gasoline or natural gas',\n",
       "  'Gasoline or propane',\n",
       "  'Midgrade',\n",
       "  'Premium',\n",
       "  'Premium Gas or Electricity',\n",
       "  'Premium and Electricity',\n",
       "  'Premium or E85',\n",
       "  'Regular',\n",
       "  'Regular Gas and Electricity',\n",
       "  'Regular Gas or Electricity'],\n",
       " 'Q4': None,\n",
       " 'Q5': None,\n",
       " 'Q6': None,\n",
       " 'Q7': None}"
      ]
     },
     "execution_count": 15,
     "metadata": {},
     "output_type": "execute_result"
    }
   ],
   "source": [
    "Q3DFR = (df['Fuel Type'].unique())\n",
    "answer_dict[\"Q3\"] = (sorted(Q3DFR))\n",
    "answer_dict"
   ]
  },
  {
   "cell_type": "markdown",
   "id": "7ab54ec5",
   "metadata": {},
   "source": [
    "### Q4. Show the 9 Toyota cars with the most extreme Fuel Barrels/Year in abosolute terms within all Toyota cars. Show the car Model, Year and their Fuel Barrels/Year in standard deviation units(Z-score) sorted in descending order by their Fuel Barrels/Year in absolute terms first and then by year in descending order BUT without modifying the negative values (see example)."
   ]
  },
  {
   "cell_type": "code",
   "execution_count": null,
   "id": "945ee927",
   "metadata": {},
   "outputs": [],
   "source": []
  },
  {
   "cell_type": "markdown",
   "id": "ff18b073",
   "metadata": {},
   "source": [
    "## Q5.  Calculate the changes in Combined MPG with their previous model of all Golf cars with Manual 5-spd transmission and Regular Fuel Type. Show the Year, the Combined MPG and the calculated difference of MPG in a list sorted by Year in ascending order."
   ]
  },
  {
   "cell_type": "code",
   "execution_count": null,
   "id": "32fa3bba",
   "metadata": {},
   "outputs": [],
   "source": []
  },
  {
   "cell_type": "markdown",
   "id": "22820d9d",
   "metadata": {},
   "source": [
    "## Q6. What are the top 5 lowest CO2 Emission Grams/Mile emmisions of cars for each of the following brands: Toyota, Ford, Volkswagen, Nissan, Honda"
   ]
  },
  {
   "cell_type": "code",
   "execution_count": 37,
   "id": "40ccf3a9",
   "metadata": {},
   "outputs": [
    {
     "name": "stdout",
     "output_type": "stream",
     "text": [
      "Q6 Answer:\n",
      "\n",
      "TOYOTA\n",
      "[133.0, 133.0, 133.0, 133.0, 158.0]\n",
      "\n",
      "FORD\n",
      "[112.0, 129.0, 129.0, 129.0, 129.0]\n",
      "\n",
      "VOLKSWAGEN\n",
      "[200.0, 200.0, 200.0, 200.0, 261.025641025641]\n",
      "\n",
      "NISSAN\n",
      "[249.0, 254.0, 254.5, 254.5, 254.5]\n",
      "\n",
      "HONDA\n",
      "[130.0, 167.67924528301887, 167.67924528301887, 167.67924528301887, 167.67924528301887]\n"
     ]
    },
    {
     "data": {
      "text/plain": [
       "{'Q1': 392.7417210857633,\n",
       " 'Q2': None,\n",
       " 'Q3': ['CNG',\n",
       "  'Diesel',\n",
       "  'Gasoline or E85',\n",
       "  'Gasoline or natural gas',\n",
       "  'Gasoline or propane',\n",
       "  'Midgrade',\n",
       "  'Premium',\n",
       "  'Premium Gas or Electricity',\n",
       "  'Premium and Electricity',\n",
       "  'Premium or E85',\n",
       "  'Regular',\n",
       "  'Regular Gas and Electricity',\n",
       "  'Regular Gas or Electricity'],\n",
       " 'Q4': None,\n",
       " 'Q5': None,\n",
       " 'Q6': ('TOYOTA',\n",
       "  [133.0, 133.0, 133.0, 133.0, 158.0],\n",
       "  'FORD',\n",
       "  [112.0, 129.0, 129.0, 129.0, 129.0],\n",
       "  'VOLKSWAGEN',\n",
       "  [200.0, 200.0, 200.0, 200.0, 261.025641025641],\n",
       "  'NISSAN',\n",
       "  [249.0, 254.0, 254.5, 254.5, 254.5],\n",
       "  'HONDA',\n",
       "  [130.0,\n",
       "   167.67924528301887,\n",
       "   167.67924528301887,\n",
       "   167.67924528301887,\n",
       "   167.67924528301887]),\n",
       " 'Q7': None}"
      ]
     },
     "execution_count": 37,
     "metadata": {},
     "output_type": "execute_result"
    }
   ],
   "source": [
    "print(\"Q6 Answer:\")\n",
    "print(\"\")\n",
    "\n",
    "Q6V1=df[df[\"Make\"]==\"Toyota\"]\n",
    "print(\"TOYOTA\")\n",
    "A6_1= Q6V1['CO2 Emission Grams/Mile'].nsmallest(5).to_list()\n",
    "print(A6_1)\n",
    "print(\"\")\n",
    "\n",
    "Q6V2=df[df[\"Make\"]==\"Ford\"]\n",
    "print(\"FORD\")\n",
    "A6_2 = Q6V2['CO2 Emission Grams/Mile'].nsmallest(5).to_list()\n",
    "print(A6_2)\n",
    "print(\"\")\n",
    "\n",
    "Q6V3=df[df[\"Make\"]==\"Volkswagen\"]\n",
    "print(\"VOLKSWAGEN\")\n",
    "A6_3 = Q6V3['CO2 Emission Grams/Mile'].nsmallest(5).to_list()\n",
    "print(A6_3)\n",
    "print(\"\")\n",
    "\n",
    "Q6V4=df[df[\"Make\"]==\"Nissan\"]\n",
    "print(\"NISSAN\")\n",
    "A6_4 = Q6V4['CO2 Emission Grams/Mile'].nsmallest(5).to_list()\n",
    "print(A6_4)\n",
    "print(\"\")\n",
    "\n",
    "Q6V5=df[df[\"Make\"]==\"Honda\"]\n",
    "print(\"HONDA\")\n",
    "A6_5 = Q6V5['CO2 Emission Grams/Mile'].nsmallest(5).to_list()\n",
    "print(A6_5)\n",
    "\n",
    "TA6 = (\"TOYOTA\",A6_1,\"FORD\",A6_2,\"VOLKSWAGEN\",A6_3,\"NISSAN\",A6_4,\"HONDA\",A6_5)\n",
    "\n",
    "answer_dict[\"Q6\"] = TA6\n",
    "answer_dict\n"
   ]
  },
  {
   "cell_type": "markdown",
   "id": "7f4e21cb",
   "metadata": {},
   "source": [
    "## PICKLE FORMAT"
   ]
  },
  {
   "cell_type": "code",
   "execution_count": 41,
   "id": "f703cfb8",
   "metadata": {},
   "outputs": [
    {
     "name": "stdout",
     "output_type": "stream",
     "text": [
      "Hola\n"
     ]
    }
   ],
   "source": [
    "import pickle\n",
    "\n",
    "file_name = \"CARLOS_GONZALEZ_answers.pkl\"\n",
    "path = \"\"\n",
    "\n",
    "with open(path+file_name, 'wb') as f:\n",
    "    pickle.dump(answer_dict, f, protocol=pickle.HIGHEST_PROTOCOL)\n",
    "    \n",
    "    \n",
    "    \n",
    "    \n",
    "print(\"Hola\")"
   ]
  },
  {
   "cell_type": "code",
   "execution_count": null,
   "id": "fba5ac53",
   "metadata": {},
   "outputs": [],
   "source": []
  }
 ],
 "metadata": {
  "kernelspec": {
   "display_name": "Python 3 (ipykernel)",
   "language": "python",
   "name": "python3"
  },
  "language_info": {
   "codemirror_mode": {
    "name": "ipython",
    "version": 3
   },
   "file_extension": ".py",
   "mimetype": "text/x-python",
   "name": "python",
   "nbconvert_exporter": "python",
   "pygments_lexer": "ipython3",
   "version": "3.9.12"
  }
 },
 "nbformat": 4,
 "nbformat_minor": 5
}
