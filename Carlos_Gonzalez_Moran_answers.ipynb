{
 "cells": [
  {
   "cell_type": "code",
   "execution_count": 154,
   "id": "eef482a4",
   "metadata": {
    "scrolled": true
   },
   "outputs": [
    {
     "name": "stdout",
     "output_type": "stream",
     "text": [
      "<class 'pandas.core.frame.DataFrame'>\n",
      "RangeIndex: 35952 entries, 0 to 35951\n",
      "Data columns (total 15 columns):\n",
      " #   Column                   Non-Null Count  Dtype  \n",
      "---  ------                   --------------  -----  \n",
      " 0   Make                     35952 non-null  object \n",
      " 1   Model                    35952 non-null  object \n",
      " 2   Year                     35952 non-null  int64  \n",
      " 3   Engine Displacement      35952 non-null  float64\n",
      " 4   Cylinders                35952 non-null  float64\n",
      " 5   Transmission             35952 non-null  object \n",
      " 6   Drivetrain               35952 non-null  object \n",
      " 7   Vehicle Class            35952 non-null  object \n",
      " 8   Fuel Type                35952 non-null  object \n",
      " 9   Fuel Barrels/Year        35952 non-null  float64\n",
      " 10  City MPG                 35952 non-null  int64  \n",
      " 11  Highway MPG              35952 non-null  int64  \n",
      " 12  Combined MPG             35952 non-null  int64  \n",
      " 13  CO2 Emission Grams/Mile  35952 non-null  float64\n",
      " 14  Fuel Cost/Year           35952 non-null  int64  \n",
      "dtypes: float64(4), int64(5), object(6)\n",
      "memory usage: 4.1+ MB\n"
     ]
    }
   ],
   "source": [
    "#Carlos Gonzalez_created on Jun 2nd 2022\n",
    "import pandas as pd\n",
    "import numpy as np\n",
    "url='https://drive.google.com/file/d/1PCJ7ltluquoXKi6MYTPMfwZQNI_-MIFP/view?usp=sharing'\n",
    "url='https://drive.google.com/uc?id=' + url.split('/')[-2]\n",
    "df = pd.read_csv(url)\n",
    "df.head()\n",
    "df.info()"
   ]
  },
  {
   "cell_type": "code",
   "execution_count": 9,
   "id": "b14dac4b",
   "metadata": {},
   "outputs": [],
   "source": [
    "answer_dict =  {\"Q1\" : None,\n",
    "                \"Q2\" : None,\n",
    "                \"Q3\" : None,\n",
    "                \"Q4\" : None,\n",
    "                \"Q5\" : None,\n",
    "                \"Q6\" : None,\n",
    "                \"Q7\" : None}"
   ]
  },
  {
   "cell_type": "markdown",
   "id": "23191bc7",
   "metadata": {},
   "source": [
    "## Q1_What is the average CO2 emmission per gram/mile of all Volkswagen cars?"
   ]
  },
  {
   "cell_type": "code",
   "execution_count": 13,
   "id": "7fb4021e",
   "metadata": {
    "scrolled": true
   },
   "outputs": [
    {
     "data": {
      "text/plain": [
       "{'Q1': 392.7417210857633,\n",
       " 'Q2': None,\n",
       " 'Q3': None,\n",
       " 'Q4': None,\n",
       " 'Q5': None,\n",
       " 'Q6': None,\n",
       " 'Q7': None}"
      ]
     },
     "execution_count": 13,
     "metadata": {},
     "output_type": "execute_result"
    }
   ],
   "source": [
    "#Q1  What is the average CO2 emmission per gram/mile of all Volkswagen cars?\n",
    "df1=df[df[\"Make\"]==\"Volkswagen\"]\n",
    "answer_dict[\"Q1\"] = df1[\"CO2 Emission Grams/Mile\"].mean()\n",
    "answer_dict"
   ]
  },
  {
   "cell_type": "markdown",
   "id": "1baec7ac",
   "metadata": {},
   "source": [
    "### #Q2. Calculate the top 5 brands(Make) with the most unique models, order your answer in descending order with respect to the number of unique models\n"
   ]
  },
  {
   "cell_type": "code",
   "execution_count": 64,
   "id": "58a4377d",
   "metadata": {},
   "outputs": [
    {
     "data": {
      "text/plain": [
       "35952"
      ]
     },
     "execution_count": 64,
     "metadata": {},
     "output_type": "execute_result"
    }
   ],
   "source": [
    "df[\"Make\"].count()"
   ]
  },
  {
   "cell_type": "code",
   "execution_count": 77,
   "id": "b65ecea4",
   "metadata": {},
   "outputs": [
    {
     "data": {
      "text/plain": [
       "127"
      ]
     },
     "execution_count": 77,
     "metadata": {},
     "output_type": "execute_result"
    }
   ],
   "source": [
    "Q2DF = df[[\"Make\",\"Model\"]]\n",
    "Q2DF[\"Make\"].nunique()\n",
    "\n",
    "\n"
   ]
  },
  {
   "cell_type": "code",
   "execution_count": 78,
   "id": "4808313a",
   "metadata": {},
   "outputs": [
    {
     "data": {
      "text/plain": [
       "0"
      ]
     },
     "execution_count": 78,
     "metadata": {},
     "output_type": "execute_result"
    }
   ],
   "source": [
    "df[\"Make\"].value_counts().argmax()"
   ]
  },
  {
   "cell_type": "code",
   "execution_count": 40,
   "id": "e85cf6e5",
   "metadata": {
    "scrolled": true
   },
   "outputs": [
    {
     "data": {
      "text/plain": [
       "F150 Pickup 2WD      197\n",
       "F150 Pickup 4WD      179\n",
       "Truck 2WD            173\n",
       "Mustang              170\n",
       "Jetta                169\n",
       "                    ... \n",
       "C300 Convertible       1\n",
       "C300 Coupe             1\n",
       "C300 FFV               1\n",
       "C320 4matic Sedan      1\n",
       "DJ Po Vehicle 2WD      1\n",
       "Name: Model, Length: 3608, dtype: int64"
      ]
     },
     "execution_count": 40,
     "metadata": {},
     "output_type": "execute_result"
    }
   ],
   "source": [
    "df[\"Model\"].value_counts()"
   ]
  },
  {
   "cell_type": "markdown",
   "id": "cfdc3b9c",
   "metadata": {},
   "source": [
    "### Q3. What are all the different types of fuels in the dataset sorted alphabetically?"
   ]
  },
  {
   "cell_type": "code",
   "execution_count": 15,
   "id": "76a36d99",
   "metadata": {
    "scrolled": true
   },
   "outputs": [
    {
     "data": {
      "text/plain": [
       "{'Q1': 392.7417210857633,\n",
       " 'Q2': None,\n",
       " 'Q3': ['CNG',\n",
       "  'Diesel',\n",
       "  'Gasoline or E85',\n",
       "  'Gasoline or natural gas',\n",
       "  'Gasoline or propane',\n",
       "  'Midgrade',\n",
       "  'Premium',\n",
       "  'Premium Gas or Electricity',\n",
       "  'Premium and Electricity',\n",
       "  'Premium or E85',\n",
       "  'Regular',\n",
       "  'Regular Gas and Electricity',\n",
       "  'Regular Gas or Electricity'],\n",
       " 'Q4': None,\n",
       " 'Q5': None,\n",
       " 'Q6': None,\n",
       " 'Q7': None}"
      ]
     },
     "execution_count": 15,
     "metadata": {},
     "output_type": "execute_result"
    }
   ],
   "source": [
    "Q3DFR = (df['Fuel Type'].unique())\n",
    "answer_dict[\"Q3\"] = (sorted(Q3DFR))\n",
    "answer_dict"
   ]
  },
  {
   "cell_type": "markdown",
   "id": "b9abaf08",
   "metadata": {},
   "source": [
    "### Q4. Show the 9 Toyota cars with the most extreme Fuel Barrels/Year in abosolute terms within all Toyota cars. Show the car Model, Year and their Fuel Barrels/Year in standard deviation units(Z-score) sorted in descending order by their Fuel Barrels/Year in absolute terms first and then by year in descending order BUT without modifying the negative values (see example)."
   ]
  },
  {
   "cell_type": "code",
   "execution_count": 174,
   "id": "849c3ee2",
   "metadata": {
    "scrolled": true
   },
   "outputs": [
    {
     "name": "stdout",
     "output_type": "stream",
     "text": [
      "Mean / µ = 16.153677357417322\n",
      "STD = 4.0871295932473535\n"
     ]
    },
    {
     "name": "stderr",
     "output_type": "stream",
     "text": [
      "C:\\Users\\carlo\\AppData\\Local\\Temp\\ipykernel_12552\\4154066092.py:10: SettingWithCopyWarning: \n",
      "A value is trying to be set on a copy of a slice from a DataFrame.\n",
      "Try using .loc[row_indexer,col_indexer] = value instead\n",
      "\n",
      "See the caveats in the documentation: https://pandas.pydata.org/pandas-docs/stable/user_guide/indexing.html#returning-a-view-versus-a-copy\n",
      "  Q4DFA1[\"Z-Score\"] = MAS2\n",
      "C:\\Users\\carlo\\AppData\\Local\\Temp\\ipykernel_12552\\4154066092.py:13: SettingWithCopyWarning: \n",
      "A value is trying to be set on a copy of a slice from a DataFrame.\n",
      "Try using .loc[row_indexer,col_indexer] = value instead\n",
      "\n",
      "See the caveats in the documentation: https://pandas.pydata.org/pandas-docs/stable/user_guide/indexing.html#returning-a-view-versus-a-copy\n",
      "  Q4DFA1[\"Z-Score ABS.\"] = ABS\n"
     ]
    },
    {
     "data": {
      "text/plain": [
       "{'Q1': 392.7417210857633,\n",
       " 'Q2': None,\n",
       " 'Q3': ['CNG',\n",
       "  'Diesel',\n",
       "  'Gasoline or E85',\n",
       "  'Gasoline or natural gas',\n",
       "  'Gasoline or propane',\n",
       "  'Midgrade',\n",
       "  'Premium',\n",
       "  'Premium Gas or Electricity',\n",
       "  'Premium and Electricity',\n",
       "  'Premium or E85',\n",
       "  'Regular',\n",
       "  'Regular Gas and Electricity',\n",
       "  'Regular Gas or Electricity'],\n",
       " 'Q4':                      Model  Year  Fuel Barrels/Year   Z-Score  Z-Score ABS.\n",
       " 0        DJ Po Vehicle 2WD  1984          19.388824  0.791545      0.791545\n",
       " 1         FJ8c Post Office  1984          25.354615  2.251198      2.251198\n",
       " 2      Post Office DJ5 2WD  1985          20.600625  1.088037      1.088037\n",
       " 3      Post Office DJ8 2WD  1985          25.354615  2.251198      2.251198\n",
       " 4                      GNX  1987          20.600625  1.088037      1.088037\n",
       " ...                    ...   ...                ...       ...           ...\n",
       " 35947         fortwo coupe  2013           9.155833 -1.712166      1.712166\n",
       " 35948         fortwo coupe  2014           9.155833 -1.712166      1.712166\n",
       " 35949         fortwo coupe  2015           9.155833 -1.712166      1.712166\n",
       " 35950         fortwo coupe  2016           9.155833 -1.712166      1.712166\n",
       " 35951         fortwo coupe  2016           9.417429 -1.648161      1.648161\n",
       " \n",
       " [35952 rows x 5 columns],\n",
       " 'Q5': None,\n",
       " 'Q6': ('TOYOTA:',\n",
       "  [133.0, 133.0, 133.0, 133.0, 158.0],\n",
       "  'FORD',\n",
       "  [112.0, 129.0, 129.0, 129.0, 129.0],\n",
       "  'VOLKSWAGEN',\n",
       "  [200.0, 200.0, 200.0, 200.0, 261.025641025641],\n",
       "  'NISSAN',\n",
       "  [249.0, 254.0, 254.5, 254.5, 254.5],\n",
       "  'HONDA',\n",
       "  [130.0,\n",
       "   167.67924528301887,\n",
       "   167.67924528301887,\n",
       "   167.67924528301887,\n",
       "   167.67924528301887]),\n",
       " 'Q7': None}"
      ]
     },
     "execution_count": 174,
     "metadata": {},
     "output_type": "execute_result"
    }
   ],
   "source": [
    "Q4DFA = df[df[\"Make\"]==\"Toyota\"]\n",
    "A4 = Q4DFA[\"Fuel Barrels/Year\"].mean()\n",
    "STD = Q4DFA[\"Fuel Barrels/Year\"].std()\n",
    "\n",
    "print(\"Mean / µ =\",A4)\n",
    "print(\"STD =\",STD)\n",
    "\n",
    "Q4DFA1 = df[[\"Model\",\"Year\",\"Fuel Barrels/Year\"]]\n",
    "MAS2 = (Q4DFA1['Fuel Barrels/Year']-A4)/STD\n",
    "Q4DFA1[\"Z-Score\"] = MAS2\n",
    "ABS = np.abs(Q4DFA1[\"Z-Score\"])\n",
    "ABS\n",
    "Q4DFA1[\"Z-Score ABS.\"] = ABS\n",
    "Q4DFA1\n",
    "answer_dict[\"Q4\"] = Q4DFA1\n",
    "answer_dict\n"
   ]
  },
  {
   "cell_type": "code",
   "execution_count": null,
   "id": "e710c3a3",
   "metadata": {},
   "outputs": [],
   "source": [
    "\n",
    "A4_1 = MAS2[\"Fuel Barrels/Year\"].nlargest(9).tolist()\n",
    "print(A4_1)\n",
    "print(\"\")\\\n",
    "\n",
    "Q4DFA1.sort_values(\"Z-Score\",ascending=True)"
   ]
  },
  {
   "cell_type": "code",
   "execution_count": null,
   "id": "93f705b4",
   "metadata": {},
   "outputs": [],
   "source": []
  },
  {
   "cell_type": "code",
   "execution_count": null,
   "id": "08548bc4",
   "metadata": {},
   "outputs": [],
   "source": []
  },
  {
   "cell_type": "code",
   "execution_count": 149,
   "id": "e60dc5e9",
   "metadata": {},
   "outputs": [
    {
     "data": {
      "text/html": [
       "<div>\n",
       "<style scoped>\n",
       "    .dataframe tbody tr th:only-of-type {\n",
       "        vertical-align: middle;\n",
       "    }\n",
       "\n",
       "    .dataframe tbody tr th {\n",
       "        vertical-align: top;\n",
       "    }\n",
       "\n",
       "    .dataframe thead th {\n",
       "        text-align: right;\n",
       "    }\n",
       "</style>\n",
       "<table border=\"1\" class=\"dataframe\">\n",
       "  <thead>\n",
       "    <tr style=\"text-align: right;\">\n",
       "      <th></th>\n",
       "      <th>Model</th>\n",
       "      <th>Year</th>\n",
       "      <th>Fuel Barrels/Year</th>\n",
       "    </tr>\n",
       "  </thead>\n",
       "  <tbody>\n",
       "    <tr>\n",
       "      <th>0</th>\n",
       "      <td>DJ Po Vehicle 2WD</td>\n",
       "      <td>1984</td>\n",
       "      <td>19.388824</td>\n",
       "    </tr>\n",
       "    <tr>\n",
       "      <th>1</th>\n",
       "      <td>FJ8c Post Office</td>\n",
       "      <td>1984</td>\n",
       "      <td>25.354615</td>\n",
       "    </tr>\n",
       "    <tr>\n",
       "      <th>2</th>\n",
       "      <td>Post Office DJ5 2WD</td>\n",
       "      <td>1985</td>\n",
       "      <td>20.600625</td>\n",
       "    </tr>\n",
       "    <tr>\n",
       "      <th>3</th>\n",
       "      <td>Post Office DJ8 2WD</td>\n",
       "      <td>1985</td>\n",
       "      <td>25.354615</td>\n",
       "    </tr>\n",
       "    <tr>\n",
       "      <th>4</th>\n",
       "      <td>GNX</td>\n",
       "      <td>1987</td>\n",
       "      <td>20.600625</td>\n",
       "    </tr>\n",
       "    <tr>\n",
       "      <th>...</th>\n",
       "      <td>...</td>\n",
       "      <td>...</td>\n",
       "      <td>...</td>\n",
       "    </tr>\n",
       "    <tr>\n",
       "      <th>35947</th>\n",
       "      <td>fortwo coupe</td>\n",
       "      <td>2013</td>\n",
       "      <td>9.155833</td>\n",
       "    </tr>\n",
       "    <tr>\n",
       "      <th>35948</th>\n",
       "      <td>fortwo coupe</td>\n",
       "      <td>2014</td>\n",
       "      <td>9.155833</td>\n",
       "    </tr>\n",
       "    <tr>\n",
       "      <th>35949</th>\n",
       "      <td>fortwo coupe</td>\n",
       "      <td>2015</td>\n",
       "      <td>9.155833</td>\n",
       "    </tr>\n",
       "    <tr>\n",
       "      <th>35950</th>\n",
       "      <td>fortwo coupe</td>\n",
       "      <td>2016</td>\n",
       "      <td>9.155833</td>\n",
       "    </tr>\n",
       "    <tr>\n",
       "      <th>35951</th>\n",
       "      <td>fortwo coupe</td>\n",
       "      <td>2016</td>\n",
       "      <td>9.417429</td>\n",
       "    </tr>\n",
       "  </tbody>\n",
       "</table>\n",
       "<p>35952 rows × 3 columns</p>\n",
       "</div>"
      ],
      "text/plain": [
       "                     Model  Year  Fuel Barrels/Year\n",
       "0        DJ Po Vehicle 2WD  1984          19.388824\n",
       "1         FJ8c Post Office  1984          25.354615\n",
       "2      Post Office DJ5 2WD  1985          20.600625\n",
       "3      Post Office DJ8 2WD  1985          25.354615\n",
       "4                      GNX  1987          20.600625\n",
       "...                    ...   ...                ...\n",
       "35947         fortwo coupe  2013           9.155833\n",
       "35948         fortwo coupe  2014           9.155833\n",
       "35949         fortwo coupe  2015           9.155833\n",
       "35950         fortwo coupe  2016           9.155833\n",
       "35951         fortwo coupe  2016           9.417429\n",
       "\n",
       "[35952 rows x 3 columns]"
      ]
     },
     "execution_count": 149,
     "metadata": {},
     "output_type": "execute_result"
    }
   ],
   "source": [
    "Q4DFA = df[df[\"Make\"]==\"Toyota\"]\n",
    "Q4DFA1 = df[[\"Model\",\"Year\",\"Fuel Barrels/Year\"]]\n",
    "Q4DFA1"
   ]
  },
  {
   "cell_type": "markdown",
   "id": "2e94e9be",
   "metadata": {},
   "source": [
    "## Q5.  Calculate the changes in Combined MPG with their previous model of all Golf cars with Manual 5-spd transmission and Regular Fuel Type. Show the Year, the Combined MPG and the calculated difference of MPG in a list sorted by Year in ascending order."
   ]
  },
  {
   "cell_type": "code",
   "execution_count": null,
   "id": "e15e7e61",
   "metadata": {},
   "outputs": [],
   "source": []
  },
  {
   "cell_type": "markdown",
   "id": "22820d9d",
   "metadata": {},
   "source": [
    "## Q6. What are the top 5 lowest CO2 Emission Grams/Mile emmisions of cars for each of the following brands: Toyota, Ford, Volkswagen, Nissan, Honda"
   ]
  },
  {
   "cell_type": "code",
   "execution_count": 43,
   "id": "40ccf3a9",
   "metadata": {},
   "outputs": [
    {
     "name": "stdout",
     "output_type": "stream",
     "text": [
      "Q6 Answer:\n",
      "\n",
      "TOYOTA\n",
      "[133.0, 133.0, 133.0, 133.0, 158.0]\n",
      "\n",
      "FORD\n",
      "[112.0, 129.0, 129.0, 129.0, 129.0]\n",
      "\n",
      "VOLKSWAGEN\n",
      "[200.0, 200.0, 200.0, 200.0, 261.025641025641]\n",
      "\n",
      "NISSAN\n",
      "[249.0, 254.0, 254.5, 254.5, 254.5]\n",
      "\n",
      "HONDA\n",
      "[130.0, 167.67924528301887, 167.67924528301887, 167.67924528301887, 167.67924528301887]\n"
     ]
    },
    {
     "data": {
      "text/plain": [
       "{'Q1': 392.7417210857633,\n",
       " 'Q2': None,\n",
       " 'Q3': ['CNG',\n",
       "  'Diesel',\n",
       "  'Gasoline or E85',\n",
       "  'Gasoline or natural gas',\n",
       "  'Gasoline or propane',\n",
       "  'Midgrade',\n",
       "  'Premium',\n",
       "  'Premium Gas or Electricity',\n",
       "  'Premium and Electricity',\n",
       "  'Premium or E85',\n",
       "  'Regular',\n",
       "  'Regular Gas and Electricity',\n",
       "  'Regular Gas or Electricity'],\n",
       " 'Q4': None,\n",
       " 'Q5': None,\n",
       " 'Q6': ('TOYOTA:',\n",
       "  [133.0, 133.0, 133.0, 133.0, 158.0],\n",
       "  'FORD',\n",
       "  [112.0, 129.0, 129.0, 129.0, 129.0],\n",
       "  'VOLKSWAGEN',\n",
       "  [200.0, 200.0, 200.0, 200.0, 261.025641025641],\n",
       "  'NISSAN',\n",
       "  [249.0, 254.0, 254.5, 254.5, 254.5],\n",
       "  'HONDA',\n",
       "  [130.0,\n",
       "   167.67924528301887,\n",
       "   167.67924528301887,\n",
       "   167.67924528301887,\n",
       "   167.67924528301887]),\n",
       " 'Q7': None}"
      ]
     },
     "execution_count": 43,
     "metadata": {},
     "output_type": "execute_result"
    }
   ],
   "source": [
    "print(\"Q6 Answer:\")\n",
    "print(\"\")\n",
    "\n",
    "Q6V1=df[df[\"Make\"]==\"Toyota\"]\n",
    "print(\"TOYOTA\")\n",
    "A6_1= Q6V1['CO2 Emission Grams/Mile'].nsmallest(5).to_list()\n",
    "print(A6_1)\n",
    "print(\"\")\n",
    "\n",
    "Q6V2=df[df[\"Make\"]==\"Ford\"]\n",
    "print(\"FORD\")\n",
    "A6_2 = Q6V2['CO2 Emission Grams/Mile'].nsmallest(5).to_list()\n",
    "print(A6_2)\n",
    "print(\"\")\n",
    "\n",
    "Q6V3=df[df[\"Make\"]==\"Volkswagen\"]\n",
    "print(\"VOLKSWAGEN\")\n",
    "A6_3 = Q6V3['CO2 Emission Grams/Mile'].nsmallest(5).to_list()\n",
    "print(A6_3)\n",
    "print(\"\")\n",
    "\n",
    "Q6V4=df[df[\"Make\"]==\"Nissan\"]\n",
    "print(\"NISSAN\")\n",
    "A6_4 = Q6V4['CO2 Emission Grams/Mile'].nsmallest(5).to_list()\n",
    "print(A6_4)\n",
    "print(\"\")\n",
    "\n",
    "Q6V5=df[df[\"Make\"]==\"Honda\"]\n",
    "print(\"HONDA\")\n",
    "A6_5 = Q6V5['CO2 Emission Grams/Mile'].nsmallest(5).to_list()\n",
    "print(A6_5)\n",
    "\n",
    "TA6 = (\"TOYOTA:\",A6_1,\"FORD\",A6_2,\"VOLKSWAGEN\",A6_3,\"NISSAN\",A6_4,\"HONDA\",A6_5)\n",
    "\n",
    "answer_dict[\"Q6\"] = TA6\n",
    "answer_dict\n"
   ]
  },
  {
   "cell_type": "markdown",
   "id": "7f4e21cb",
   "metadata": {},
   "source": [
    "## PICKLE FORMAT"
   ]
  },
  {
   "cell_type": "code",
   "execution_count": 176,
   "id": "f703cfb8",
   "metadata": {},
   "outputs": [],
   "source": [
    "import pickle\n",
    "\n",
    "file_name = \"CARLOS_GONZALEZ_answers.pkl\"\n",
    "path = \"\"\n",
    "\n",
    "with open(path+file_name, 'wb') as f:\n",
    "    pickle.dump(answer_dict, f, protocol=pickle.HIGHEST_PROTOCOL)\n",
    "    \n",
    "    \n",
    "    \n",
    "    "
   ]
  },
  {
   "cell_type": "code",
   "execution_count": null,
   "id": "8eb9f966",
   "metadata": {},
   "outputs": [],
   "source": []
  }
 ],
 "metadata": {
  "kernelspec": {
   "display_name": "Python 3 (ipykernel)",
   "language": "python",
   "name": "python3"
  },
  "language_info": {
   "codemirror_mode": {
    "name": "ipython",
    "version": 3
   },
   "file_extension": ".py",
   "mimetype": "text/x-python",
   "name": "python",
   "nbconvert_exporter": "python",
   "pygments_lexer": "ipython3",
   "version": "3.9.12"
  }
 },
 "nbformat": 4,
 "nbformat_minor": 5
}
